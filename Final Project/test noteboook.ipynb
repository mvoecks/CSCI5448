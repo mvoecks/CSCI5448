{
 "cells": [
  {
   "cell_type": "code",
   "execution_count": 1,
   "metadata": {},
   "outputs": [],
   "source": [
    "import requests\n",
    "import re\n",
    "from bs4 import BeautifulSoup\n",
    "\n",
    "class Song():\n",
    "    def __init__(self, songData):\n",
    "        self.title = str(songData.string)\n",
    "        self.description = str(songData['title'])\n",
    "\n",
    "    def getTitle(self):\n",
    "        return self.title\n",
    "\n",
    "    def getDescription(self):\n",
    "        return self.description\n"
   ]
  },
  {
   "cell_type": "code",
   "execution_count": 2,
   "metadata": {},
   "outputs": [],
   "source": [
    "def parse_setlist(s):\n",
    "    \"\"\"Parses setlist from raw setlist data\"\"\"\n",
    "    setlist = []\n",
    "    soup = BeautifulSoup(s[\"response\"][\"data\"][0]['setlistdata'],\n",
    "                         features=\"html.parser\")\n",
    "\n",
    "    for p_tag in soup.find_all(\"p\"):\n",
    "\n",
    "        setlist_tags = p_tag.contents\n",
    "        for tag in setlist_tags:\n",
    "            # handle Navigable Strings\n",
    "            if str(type(tag)) == \"<class 'bs4.element.NavigableString'>\":\n",
    "                # string. Need to add special handling\n",
    "                continue\n",
    "\n",
    "            if tag.name == \"br\":\n",
    "                continue\n",
    "\n",
    "            # handle setlist notes\n",
    "            elif tag.name == \"sup\":\n",
    "                element = {\n",
    "                    \"note_id\": int(tag.contents[0][1:2]),\n",
    "                    \"element_type\": \"note\",\n",
    "                    \"body\": tag[\"title\"],\n",
    "                }\n",
    "\n",
    "                setlist[-1][\"notes\"].append(element)\n",
    "\n",
    "            elif tag[\"class\"] == [\"setlist-song\"]:\n",
    "                phishnet_url = tag[\"href\"]\n",
    "                element = {\n",
    "                    \"song_id\": phishnet_url.split(\"/\")[-1],\n",
    "                    \"element_type\": \"song\",\n",
    "                    \"song_url\": phishnet_url,\n",
    "                    \"set_label\": tag.parent.span.contents[0],\n",
    "                    \"notes\": [],\n",
    "                }\n",
    "\n",
    "                setlist.append(element)\n",
    "\n",
    "    return setlist"
   ]
  },
  {
   "cell_type": "code",
   "execution_count": 4,
   "metadata": {},
   "outputs": [],
   "source": [
    "url = \"https://api.phish.net/v3/setlists/get?apikey=54F48A9D48D56E6D1E97&showdate=1994-12-30\"\n",
    "\n",
    "payload = \"{}\"\n",
    "response = requests.request(\"GET\", url, data=payload)\n",
    "\n",
    "jsonResponse = response.json()\n"
   ]
  },
  {
   "cell_type": "code",
   "execution_count": 5,
   "metadata": {},
   "outputs": [
    {
     "name": "stdout",
     "output_type": "stream",
     "text": [
      "TEST\n",
      "Chalk Dust Torture\n"
     ]
    }
   ],
   "source": [
    "temp = parse_setlist(jsonResponse)\n",
    "venue = jsonResponse['response']['data'][0]['venue']\n",
    "\n",
    "print(jsonResponse)\n",
    "\n",
    "soup = BeautifulSoup(jsonResponse['response']['data'][0]['setlistdata'], features='html.parser')\n",
    "for temp in soup.find_all(\"p\"):\n",
    "    print(\"TEST\")\n",
    "    for tag in temp.contents:\n",
    "        try:\n",
    "            if tag['class'] == ['setlist-song']:\n",
    "                print(str(tag.string))\n",
    "                print(str(tag['title']))\n",
    "            elif tag['class'] == ['setlist-footer']:\n",
    "                for subTag in tag.contents:\n",
    "                    if str(type(subTag)) != \"<class 'bs4.element.Tag'>\":\n",
    "                        print(str(subTag))\n",
    "        except TypeError:\n",
    "            pass\n",
    "        except KeyError:\n",
    "            pass"
   ]
  },
  {
   "cell_type": "code",
   "execution_count": null,
   "metadata": {},
   "outputs": [],
   "source": []
  }
 ],
 "metadata": {
  "kernelspec": {
   "display_name": "Python 3",
   "language": "python",
   "name": "python3"
  },
  "language_info": {
   "codemirror_mode": {
    "name": "ipython",
    "version": 3
   },
   "file_extension": ".py",
   "mimetype": "text/x-python",
   "name": "python",
   "nbconvert_exporter": "python",
   "pygments_lexer": "ipython3",
   "version": "3.5.2"
  }
 },
 "nbformat": 4,
 "nbformat_minor": 2
}
